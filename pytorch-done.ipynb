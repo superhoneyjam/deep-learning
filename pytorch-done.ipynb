{
 "cells": [
  {
   "cell_type": "code",
   "execution_count": null,
   "metadata": {
    "ExecuteTime": {
     "end_time": "2021-11-19T05:34:11.242711Z",
     "start_time": "2021-11-19T05:34:11.206677Z"
    }
   },
   "outputs": [],
   "source": [
    "import os\n",
    "import os.path\n",
    "import pandas as pd \n",
    "import shutil\n",
    "#file_path = os.chdir('/images/test/360')\n",
    "file_path='/jupyter_project/images/480x480/'\n",
    "for i in range(0,3):\n",
    "    for j in range(0,10):\n",
    "        os.mkdir(file_path+'Mobile_eval/'+str(i)+str(j)+str(0))\n",
    "        os.mkdir(file_path+'Mobile_eval/'+str(i)+str(j)+str(1))\n",
    "        os.mkdir(file_path+'Mobile_eval/'+str(i)+str(j)+str(2))\n",
    "        os.mkdir(file_path+'Mobile_eval/'+str(i)+str(j)+str(3))"
   ]
  },
  {
   "cell_type": "code",
   "execution_count": null,
   "metadata": {
    "ExecuteTime": {
     "end_time": "2021-11-19T05:43:20.281537Z",
     "start_time": "2021-11-19T05:43:19.863602Z"
    }
   },
   "outputs": [],
   "source": [
    "file_list=os.listdir(file_path+'Mobile_eval')\n",
    "len(file_list)\n",
    "#img_name=file_path+'Mobile_eval'+'/'+''\n",
    "q=0\n",
    "for i in range(108,432,4):\n",
    "    j=str(q).zfill(2)\n",
    "    from_=(file_path+'Mobile_eval'+'/'+file_list[i]) \n",
    "    to_=(file_path+'Mobile_eval'+'/'+str(j)+str(0))\n",
    "    shutil.move(from_,to_)\n",
    "    \n",
    "    from_=(file_path+'Mobile_eval'+'/'+file_list[i+1]) \n",
    "    to_=(file_path+'Mobile_eval'+'/'+str(j)+str(1))\n",
    "    shutil.move(from_,to_)\n",
    "    \n",
    "    from_=(file_path+'Mobile_eval'+'/'+file_list[i+2]) \n",
    "    to_=(file_path+'Mobile_eval'+'/'+str(j)+str(2))\n",
    "    shutil.move(from_,to_)\n",
    "    \n",
    "    from_=(file_path+'Mobile_eval'+'/'+file_list[i+3]) \n",
    "    to_=(file_path+'Mobile_eval'+'/'+str(j)+str(3))\n",
    "    shutil.move(from_,to_)\n",
    "    q=q+1\n",
    "    if(q==27):\n",
    "        q=0"
   ]
  },
  {
   "cell_type": "code",
   "execution_count": null,
   "metadata": {
    "ExecuteTime": {
     "end_time": "2021-11-19T05:42:44.665637Z",
     "start_time": "2021-11-19T05:42:44.649709Z"
    }
   },
   "outputs": [],
   "source": [
    "file_list=os.listdir(file_path+'Mobile_eval')\n",
    "q=10\n",
    "j=str(q).zfill(2)\n",
    "#file_list[i]\n",
    "file_list[i+1]\n",
    "file_list[i+2]\n",
    "file_list[i+3]\n",
    "file_path+'Mobile_eval'+'/'+str(j)+str(2)\n",
    "q=q+1\n",
    "j=str(q).zfill(2)\n",
    "j"
   ]
  },
  {
   "cell_type": "code",
   "execution_count": null,
   "metadata": {
    "ExecuteTime": {
     "end_time": "2021-11-19T05:43:01.828152Z",
     "start_time": "2021-11-19T05:43:01.817177Z"
    }
   },
   "outputs": [],
   "source": [
    "file_list=os.listdir(file_path+'Mobile_eval')\n",
    "\n",
    "len(file_list)\n"
   ]
  },
  {
   "cell_type": "code",
   "execution_count": null,
   "metadata": {
    "ExecuteTime": {
     "end_time": "2021-11-21T04:28:02.304136Z",
     "start_time": "2021-11-21T04:24:07.794050Z"
    }
   },
   "outputs": [],
   "source": [
    "pip install torch==1.10.0+cu102 torchvision==0.11.1+cu102 torchaudio===0.10.0+cu102 -f https://download.pytorch.org/whl/cu102/torch_stable.html"
   ]
  },
  {
   "cell_type": "code",
   "execution_count": null,
   "metadata": {
    "ExecuteTime": {
     "start_time": "2021-11-22T04:48:57.334Z"
    }
   },
   "outputs": [],
   "source": [
    "##필요 라이브러리\n",
    "from PIL import Image\n",
    "%matplotlib inline\n",
    "import matplotlib\n",
    "import matplotlib.pyplot as plt\n",
    "import torch\n",
    "from torch.utils.data import Dataset,DataLoader\n",
    "import numpy as np\n",
    "import torchvision\n",
    "from torchvision import transforms\n",
    "\n",
    "#이미지 전처리\n",
    "trans = transforms.Compose([transforms.Resize((100,100)),\n",
    "                           transforms.ToTensor(),\n",
    "                            transforms.Normalize((0.5,0.5,0.5),(0.5,0.5,0.5))\n",
    "                           ])\n",
    "trainset=torchvision.datasets.ImageFolder(root=\"C:/jupyter_project/images/480x480/360_train/\",\n",
    "                                         transform=trans)\n",
    "# 18번째 데이터 가져오기\n",
    "#trainset.__getitem__(18)\n",
    "\n",
    "#데이터수 확인 540장\n",
    "#len(trainset)\n",
    "\n",
    "#class 확인\n",
    "classes = trainset.classes\n",
    "#classes\n",
    "\n",
    "#Dataloader를 통해 데이터 올리기\n",
    "\n",
    "trainloader = DataLoader(trainset,\n",
    "                        batch_size=16,\n",
    "                        shuffle=False,\n",
    "                        num_workers=2)\n",
    "#batch_size= 16개 shuffle 안함, cpucore 4\n",
    "dataiter=iter(trainloader)\n",
    "images,labels=dataiter.next()\n",
    "#print(labels)\n",
    "\n",
    "#이미지 데이터 시각화\n",
    "def imshow(img):\n",
    "    img = img /2 + 0.5 #unnormalize\n",
    "    np_img = img.numpy()\n",
    "    plt.imshow(np.transpose(np_img,(1,2,0)))\n",
    "    print(np_img.shape)\n",
    "    print((np.transposes(np_img,(1,2,0))).shape)\n",
    "\n",
    "    \n",
    "print(images.shape)\n",
    "imshow(torchvision.utils.make_grid(images,nrow=4))\n",
    "print(images.shape)\n",
    "print((torchvision.utils.make_grid(images)).shape)\n",
    "print(\"\".join(\"%5c \" %classes[labels[j]] for j in range(16)))"
   ]
  },
  {
   "cell_type": "code",
   "execution_count": null,
   "metadata": {
    "ExecuteTime": {
     "end_time": "2021-11-22T04:50:49.950204Z",
     "start_time": "2021-11-22T04:50:47.843728Z"
    }
   },
   "outputs": [],
   "source": [
    "##필요 라이브러리\n",
    "from PIL import Image\n",
    "%matplotlib inline\n",
    "import matplotlib\n",
    "import matplotlib.pyplot as plt\n",
    "import torch\n",
    "from torch.utils.data import Dataset,DataLoader\n",
    "import numpy as np\n",
    "import torchvision\n",
    "from torchvision import transforms\n",
    "\n"
   ]
  },
  {
   "cell_type": "code",
   "execution_count": null,
   "metadata": {
    "ExecuteTime": {
     "end_time": "2021-11-22T04:50:52.824904Z",
     "start_time": "2021-11-22T04:50:52.798974Z"
    }
   },
   "outputs": [],
   "source": [
    "#이미지 전처리\n",
    "trans = transforms.Compose([transforms.Resize((100,100)),\n",
    "                           transforms.ToTensor(),\n",
    "                            transforms.Normalize((0.5,0.5,0.5),(0.5,0.5,0.5))\n",
    "                           ])\n",
    "trainset=torchvision.datasets.ImageFolder(root=\"C:/Users/sksks/Desktop/jupyter_project/images/480x480/360_train/\",\n",
    "                                         transform=trans)\n",
    "# 18번째 데이터 가져오기"
   ]
  },
  {
   "cell_type": "code",
   "execution_count": null,
   "metadata": {
    "ExecuteTime": {
     "end_time": "2021-11-22T04:50:57.471472Z",
     "start_time": "2021-11-22T04:50:57.462497Z"
    }
   },
   "outputs": [],
   "source": [
    "classes = trainset.classes\n",
    "classes"
   ]
  },
  {
   "cell_type": "code",
   "execution_count": null,
   "metadata": {
    "ExecuteTime": {
     "end_time": "2021-11-22T04:51:01.855892Z",
     "start_time": "2021-11-22T04:50:59.523103Z"
    }
   },
   "outputs": [],
   "source": [
    "#Dataloader를 통해 데이터 올리기\n",
    "\n",
    "trainloader = DataLoader(trainset,\n",
    "                        batch_size=16,\n",
    "                        shuffle=False,\n",
    "                        num_workers=2)\n",
    "#batch_size= 16개 shuffle 안함, cpucore 4\n",
    "dataiter=iter(trainloader)\n",
    "images,labels=dataiter.next()\n",
    "print(labels)"
   ]
  },
  {
   "cell_type": "code",
   "execution_count": null,
   "metadata": {
    "ExecuteTime": {
     "end_time": "2021-11-22T04:51:04.116222Z",
     "start_time": "2021-11-22T04:51:04.100264Z"
    }
   },
   "outputs": [],
   "source": [
    "def imshow(img):\n",
    "    img = img /2 + 0.5 #unnormalize\n",
    "    np_img = img.numpy()\n",
    "    plt.imshow(np.transpose(np_img,(1,2,0)))\n",
    "    print(np_img.shape)\n",
    "    print((np.transpose(np_img,(1,2,0))).shape)"
   ]
  },
  {
   "cell_type": "code",
   "execution_count": null,
   "metadata": {
    "ExecuteTime": {
     "start_time": "2021-11-22T04:51:10.047Z"
    }
   },
   "outputs": [],
   "source": [
    "print(images.shape)\n",
    "imshow(torchvision.utils.make_grid(images,nrow=4))\n",
    "print(images.shape)\n",
    "print((torchvision.utils.make_grid(images)).shape)\n",
    "print(\"\".join(\"%5s \" %classes[labels[j]] for j in range(16)))"
   ]
  },
  {
   "cell_type": "code",
   "execution_count": 1,
   "metadata": {},
   "outputs": [
    {
     "name": "stdout",
     "output_type": "stream",
     "text": [
      "Total no of images 540\n"
     ]
    }
   ],
   "source": [
    "from glob import glob\n",
    "import os\n",
    "import numpy as np\n",
    "import matplotlib.pyplot as plt\n",
    "import shutil\n",
    "from torchvision import transforms\n",
    "from torchvision import models\n",
    "\n",
    "import torch\n",
    "from torch.autograd import Variable\n",
    "import torch.nn as nn\n",
    "from torch import optim\n",
    "from torch.optim import lr_scheduler\n",
    "from torchvision.datasets import ImageFolder\n",
    "from torchvision.utils import make_grid\n",
    "import time\n",
    "%matplotlib inline\n",
    "def imshow(inp) :\n",
    "    inp = inp.numpy().transpose((1,2,0))\n",
    "    mean = np.array([0.485,0.456,0.406])\n",
    "    std = np.array([0.229, 0.224,0.225])\n",
    "    inp = std * inp + mean\n",
    "    inp = np.clip(inp, 0,1)\n",
    "    plt.imshow(inp)\n",
    "path = 'C:/Users/sksks/Desktop/jupyter_project/images/480x480/360_train/'\n",
    "# 폴더 안에 모든 파일 목록을 읽음\n",
    "\n",
    "files = glob(os.path.join(path,'*/*.jpg'))\n",
    "\n",
    "print(f'Total no of images {len(files)}')\n",
    "\n",
    "no_of_images = 25000\n",
    "no_of_images = len(files)\n",
    "\n"
   ]
  },
  {
   "cell_type": "code",
   "execution_count": 2,
   "metadata": {},
   "outputs": [
    {
     "data": {
      "text/plain": [
       "432.0"
      ]
     },
     "execution_count": 2,
     "metadata": {},
     "output_type": "execute_result"
    }
   ],
   "source": [
    "no_of_images*0.8\n"
   ]
  },
  {
   "cell_type": "code",
   "execution_count": 3,
   "metadata": {},
   "outputs": [],
   "source": [
    "if torch.cuda.is_available():\n",
    "    is_cuda = True"
   ]
  },
  {
   "cell_type": "code",
   "execution_count": 4,
   "metadata": {},
   "outputs": [
    {
     "data": {
      "text/plain": [
       "True"
      ]
     },
     "execution_count": 4,
     "metadata": {},
     "output_type": "execute_result"
    }
   ],
   "source": [
    "torch.cuda.is_available()\n"
   ]
  },
  {
   "cell_type": "code",
   "execution_count": 5,
   "metadata": {},
   "outputs": [],
   "source": [
    "simple_transform = transforms.Compose([transforms.Resize((224,224))\n",
    "                                       ,transforms.ToTensor()\n",
    "                                       ,transforms.Normalize([0.485, 0.456, 0.406], [0.229, 0.224, 0.225])])\n",
    "train = ImageFolder('C:/Users/sksks/Desktop/jupyter_project/images/480x480/360_train/',simple_transform)\n",
    "valid = ImageFolder('C:/Users/sksks/Desktop/jupyter_project/images/480x480/Mobile_eval/',simple_transform)"
   ]
  },
  {
   "cell_type": "code",
   "execution_count": 6,
   "metadata": {},
   "outputs": [
    {
     "name": "stdout",
     "output_type": "stream",
     "text": [
      "{'000': 0, '001': 1, '002': 2, '003': 3, '010': 4, '011': 5, '012': 6, '013': 7, '020': 8, '021': 9, '022': 10, '023': 11, '030': 12, '031': 13, '032': 14, '033': 15, '040': 16, '041': 17, '042': 18, '043': 19, '050': 20, '051': 21, '052': 22, '053': 23, '060': 24, '061': 25, '062': 26, '063': 27, '070': 28, '071': 29, '072': 30, '073': 31, '080': 32, '081': 33, '082': 34, '083': 35, '090': 36, '091': 37, '092': 38, '093': 39, '100': 40, '101': 41, '102': 42, '103': 43, '110': 44, '111': 45, '112': 46, '113': 47, '120': 48, '121': 49, '122': 50, '123': 51, '130': 52, '131': 53, '132': 54, '133': 55, '140': 56, '141': 57, '142': 58, '143': 59, '150': 60, '151': 61, '152': 62, '153': 63, '160': 64, '161': 65, '162': 66, '163': 67, '170': 68, '171': 69, '172': 70, '173': 71, '180': 72, '181': 73, '182': 74, '183': 75, '190': 76, '191': 77, '192': 78, '193': 79, '200': 80, '201': 81, '202': 82, '203': 83, '210': 84, '211': 85, '212': 86, '213': 87, '220': 88, '221': 89, '222': 90, '223': 91, '230': 92, '231': 93, '232': 94, '233': 95, '240': 96, '241': 97, '242': 98, '243': 99, '250': 100, '251': 101, '252': 102, '253': 103, '260': 104, '261': 105, '262': 106, '263': 107}\n",
      "['000', '001', '002', '003', '010', '011', '012', '013', '020', '021', '022', '023', '030', '031', '032', '033', '040', '041', '042', '043', '050', '051', '052', '053', '060', '061', '062', '063', '070', '071', '072', '073', '080', '081', '082', '083', '090', '091', '092', '093', '100', '101', '102', '103', '110', '111', '112', '113', '120', '121', '122', '123', '130', '131', '132', '133', '140', '141', '142', '143', '150', '151', '152', '153', '160', '161', '162', '163', '170', '171', '172', '173', '180', '181', '182', '183', '190', '191', '192', '193', '200', '201', '202', '203', '210', '211', '212', '213', '220', '221', '222', '223', '230', '231', '232', '233', '240', '241', '242', '243', '250', '251', '252', '253', '260', '261', '262', '263']\n"
     ]
    }
   ],
   "source": [
    "print(train.class_to_idx)\n",
    "print(train.classes) "
   ]
  },
  {
   "cell_type": "code",
   "execution_count": 7,
   "metadata": {},
   "outputs": [
    {
     "data": {
      "image/png": "[encoded data removed]",
      "text/plain": [
       "<Figure size 432x288 with 1 Axes>"
      ]
     },
     "metadata": {
      "needs_background": "light"
     },
     "output_type": "display_data"
    }
   ],
   "source": [
    "imshow(train[50][0])"
   ]
  },
  {
   "cell_type": "code",
   "execution_count": 8,
   "metadata": {},
   "outputs": [],
   "source": [
    "train_data_gen = torch.utils.data.DataLoader(train,shuffle=True,batch_size=64,num_workers=3)\n",
    "valid_data_gen = torch.utils.data.DataLoader(valid,batch_size=64,num_workers=3)"
   ]
  },
  {
   "cell_type": "code",
   "execution_count": 9,
   "metadata": {},
   "outputs": [],
   "source": [
    "dataset_sizes = {'train':len(train_data_gen.dataset),'valid':len(valid_data_gen.dataset)}"
   ]
  },
  {
   "cell_type": "code",
   "execution_count": 10,
   "metadata": {},
   "outputs": [],
   "source": [
    "dataloaders = {'train':train_data_gen,'valid':valid_data_gen}"
   ]
  },
  {
   "cell_type": "code",
   "execution_count": 11,
   "metadata": {},
   "outputs": [],
   "source": [
    "model_ft = models.resnet18(pretrained=True) # Resnet 알고리즘의 인스턴스를 생성\n",
    "num_ftrs = model_ft.fc.in_features\n",
    "model_ft.fc = nn.Linear(num_ftrs, 108)\n",
    "\n",
    "if is_cuda :\n",
    "    model_ft = model_ft.cuda()"
   ]
  },
  {
   "cell_type": "code",
   "execution_count": 12,
   "metadata": {},
   "outputs": [
    {
     "data": {
      "text/plain": [
       "ResNet(\n",
       "  (conv1): Conv2d(3, 64, kernel_size=(7, 7), stride=(2, 2), padding=(3, 3), bias=False)\n",
       "  (bn1): BatchNorm2d(64, eps=1e-05, momentum=0.1, affine=True, track_running_stats=True)\n",
       "  (relu): ReLU(inplace=True)\n",
       "  (maxpool): MaxPool2d(kernel_size=3, stride=2, padding=1, dilation=1, ceil_mode=False)\n",
       "  (layer1): Sequential(\n",
       "    (0): BasicBlock(\n",
       "      (conv1): Conv2d(64, 64, kernel_size=(3, 3), stride=(1, 1), padding=(1, 1), bias=False)\n",
       "      (bn1): BatchNorm2d(64, eps=1e-05, momentum=0.1, affine=True, track_running_stats=True)\n",
       "      (relu): ReLU(inplace=True)\n",
       "      (conv2): Conv2d(64, 64, kernel_size=(3, 3), stride=(1, 1), padding=(1, 1), bias=False)\n",
       "      (bn2): BatchNorm2d(64, eps=1e-05, momentum=0.1, affine=True, track_running_stats=True)\n",
       "    )\n",
       "    (1): BasicBlock(\n",
       "      (conv1): Conv2d(64, 64, kernel_size=(3, 3), stride=(1, 1), padding=(1, 1), bias=False)\n",
       "      (bn1): BatchNorm2d(64, eps=1e-05, momentum=0.1, affine=True, track_running_stats=True)\n",
       "      (relu): ReLU(inplace=True)\n",
       "      (conv2): Conv2d(64, 64, kernel_size=(3, 3), stride=(1, 1), padding=(1, 1), bias=False)\n",
       "      (bn2): BatchNorm2d(64, eps=1e-05, momentum=0.1, affine=True, track_running_stats=True)\n",
       "    )\n",
       "  )\n",
       "  (layer2): Sequential(\n",
       "    (0): BasicBlock(\n",
       "      (conv1): Conv2d(64, 128, kernel_size=(3, 3), stride=(2, 2), padding=(1, 1), bias=False)\n",
       "      (bn1): BatchNorm2d(128, eps=1e-05, momentum=0.1, affine=True, track_running_stats=True)\n",
       "      (relu): ReLU(inplace=True)\n",
       "      (conv2): Conv2d(128, 128, kernel_size=(3, 3), stride=(1, 1), padding=(1, 1), bias=False)\n",
       "      (bn2): BatchNorm2d(128, eps=1e-05, momentum=0.1, affine=True, track_running_stats=True)\n",
       "      (downsample): Sequential(\n",
       "        (0): Conv2d(64, 128, kernel_size=(1, 1), stride=(2, 2), bias=False)\n",
       "        (1): BatchNorm2d(128, eps=1e-05, momentum=0.1, affine=True, track_running_stats=True)\n",
       "      )\n",
       "    )\n",
       "    (1): BasicBlock(\n",
       "      (conv1): Conv2d(128, 128, kernel_size=(3, 3), stride=(1, 1), padding=(1, 1), bias=False)\n",
       "      (bn1): BatchNorm2d(128, eps=1e-05, momentum=0.1, affine=True, track_running_stats=True)\n",
       "      (relu): ReLU(inplace=True)\n",
       "      (conv2): Conv2d(128, 128, kernel_size=(3, 3), stride=(1, 1), padding=(1, 1), bias=False)\n",
       "      (bn2): BatchNorm2d(128, eps=1e-05, momentum=0.1, affine=True, track_running_stats=True)\n",
       "    )\n",
       "  )\n",
       "  (layer3): Sequential(\n",
       "    (0): BasicBlock(\n",
       "      (conv1): Conv2d(128, 256, kernel_size=(3, 3), stride=(2, 2), padding=(1, 1), bias=False)\n",
       "      (bn1): BatchNorm2d(256, eps=1e-05, momentum=0.1, affine=True, track_running_stats=True)\n",
       "      (relu): ReLU(inplace=True)\n",
       "      (conv2): Conv2d(256, 256, kernel_size=(3, 3), stride=(1, 1), padding=(1, 1), bias=False)\n",
       "      (bn2): BatchNorm2d(256, eps=1e-05, momentum=0.1, affine=True, track_running_stats=True)\n",
       "      (downsample): Sequential(\n",
       "        (0): Conv2d(128, 256, kernel_size=(1, 1), stride=(2, 2), bias=False)\n",
       "        (1): BatchNorm2d(256, eps=1e-05, momentum=0.1, affine=True, track_running_stats=True)\n",
       "      )\n",
       "    )\n",
       "    (1): BasicBlock(\n",
       "      (conv1): Conv2d(256, 256, kernel_size=(3, 3), stride=(1, 1), padding=(1, 1), bias=False)\n",
       "      (bn1): BatchNorm2d(256, eps=1e-05, momentum=0.1, affine=True, track_running_stats=True)\n",
       "      (relu): ReLU(inplace=True)\n",
       "      (conv2): Conv2d(256, 256, kernel_size=(3, 3), stride=(1, 1), padding=(1, 1), bias=False)\n",
       "      (bn2): BatchNorm2d(256, eps=1e-05, momentum=0.1, affine=True, track_running_stats=True)\n",
       "    )\n",
       "  )\n",
       "  (layer4): Sequential(\n",
       "    (0): BasicBlock(\n",
       "      (conv1): Conv2d(256, 512, kernel_size=(3, 3), stride=(2, 2), padding=(1, 1), bias=False)\n",
       "      (bn1): BatchNorm2d(512, eps=1e-05, momentum=0.1, affine=True, track_running_stats=True)\n",
       "      (relu): ReLU(inplace=True)\n",
       "      (conv2): Conv2d(512, 512, kernel_size=(3, 3), stride=(1, 1), padding=(1, 1), bias=False)\n",
       "      (bn2): BatchNorm2d(512, eps=1e-05, momentum=0.1, affine=True, track_running_stats=True)\n",
       "      (downsample): Sequential(\n",
       "        (0): Conv2d(256, 512, kernel_size=(1, 1), stride=(2, 2), bias=False)\n",
       "        (1): BatchNorm2d(512, eps=1e-05, momentum=0.1, affine=True, track_running_stats=True)\n",
       "      )\n",
       "    )\n",
       "    (1): BasicBlock(\n",
       "      (conv1): Conv2d(512, 512, kernel_size=(3, 3), stride=(1, 1), padding=(1, 1), bias=False)\n",
       "      (bn1): BatchNorm2d(512, eps=1e-05, momentum=0.1, affine=True, track_running_stats=True)\n",
       "      (relu): ReLU(inplace=True)\n",
       "      (conv2): Conv2d(512, 512, kernel_size=(3, 3), stride=(1, 1), padding=(1, 1), bias=False)\n",
       "      (bn2): BatchNorm2d(512, eps=1e-05, momentum=0.1, affine=True, track_running_stats=True)\n",
       "    )\n",
       "  )\n",
       "  (avgpool): AdaptiveAvgPool2d(output_size=(1, 1))\n",
       "  (fc): Linear(in_features=512, out_features=108, bias=True)\n",
       ")"
      ]
     },
     "execution_count": 12,
     "metadata": {},
     "output_type": "execute_result"
    }
   ],
   "source": [
    "model_ft"
   ]
  },
  {
   "cell_type": "code",
   "execution_count": 13,
   "metadata": {},
   "outputs": [],
   "source": [
    "model_ft.fc = nn.Linear(num_ftrs, 108)\n",
    "if is_cuda :\n",
    "    model_ft = model_ft.cuda()"
   ]
  },
  {
   "cell_type": "code",
   "execution_count": 14,
   "metadata": {},
   "outputs": [],
   "source": [
    "# 오차 함수와 옵티마이저\n",
    "\n",
    "learning_rate = 0.001\n",
    "criterion = nn.CrossEntropyLoss() # 오차함수 생성\n",
    "# Stochastic Gradient Descent 기반 옵티마이저 생성\n",
    "optimizer_ft = optim.SGD(model_ft.parameters(),lr=learning_rate,momentum=0.9)\n",
    "# 학습률을 동적으로 변경하는 기능인 StepLR\n",
    "exp_lr_scheduler = lr_scheduler.StepLR(optimizer_ft, step_size=7, gamma=0.1)"
   ]
  },
  {
   "cell_type": "code",
   "execution_count": 15,
   "metadata": {},
   "outputs": [],
   "source": [
    "def train_model(model, criterion, optimizer, scheduler, num_epochs=5):\n",
    "    since = time.time()\n",
    "    \n",
    "    best_model_wts = model.state_dict()\n",
    "    best_acc = 0.0\n",
    "    \n",
    "    for epoch in range(num_epochs):\n",
    "        print('Epoch {}/{}'.format(epoch, num_epochs - 1))\n",
    "        print('-' * 10)\n",
    "        \n",
    "        # 각 Epoch은 학습 단계와 검증 단계를 거침\n",
    "        for phase in ['train','valid']:\n",
    "            if phase == 'train':\n",
    "                scheduler.step()\n",
    "                model.train(True)\n",
    "            else:\n",
    "                model.train(False)\n",
    "                \n",
    "            running_loss = 0.0\n",
    "            running_corrects = 0\n",
    "            \n",
    "            # 데이터 반복\n",
    "            for data in dataloaders[phase]:\n",
    "                # 입력 데이터 가져오기, 데이터 획득\n",
    "                inputs, labels = data\n",
    "                \n",
    "                # 데이터를 Variable로 만듦, 데이터 래핑(Variable)\n",
    "                if torch.cuda.is_available():\n",
    "                    inputs = Variable(inputs.cuda())\n",
    "                    labels = Variable(labels.cuda())\n",
    "                else:\n",
    "                    inputs, labels = Variable(inputs), Variable(labels)\n",
    "                \n",
    "                # 파라미터 기울기 초기화\n",
    "                optimizer.zero_grad()\n",
    "                \n",
    "                # forward\n",
    "                outputs = model(inputs)\n",
    "                _, preds = torch.max(outputs.data, 1)\n",
    "                loss = criterion(outputs, labels)\n",
    "                \n",
    "                # 학습 단계에서만 수행, 역전파 + 옵티마이즈(최적화)\n",
    "                if phase == 'train':\n",
    "                    loss.backward()\n",
    "                    optimizer.step()\n",
    "                    \n",
    "                # 통계\n",
    "                running_loss += loss.data\n",
    "                running_corrects += torch.sum(preds == labels.data)\n",
    "            \n",
    "            epoch_loss = running_loss.item() / dataset_sizes[phase]\n",
    "            epoch_acc = running_corrects.item() / dataset_sizes[phase]\n",
    "            \n",
    "            print('{} Loss: {:.4f} Acc: {:.4f}'.format(phase, epoch_loss, epoch_acc))\n",
    "            \n",
    "            # 모델 복사(Deep Copy)\n",
    "            if phase == 'valid' and epoch_acc > best_acc:\n",
    "                best_acc = epoch_acc\n",
    "                best_model_wts = model.state_dict()\n",
    "        print()\n",
    "        \n",
    "    time_elapsed = time.time() - since\n",
    "    print(\"Training complete in {:.0f}m {:.0f}\".format(time_elapsed // 60, time_elapsed % 60))\n",
    "    print(\"Best Validation Accuracy : {:4f}\".format(best_acc))\n",
    "    \n",
    "    # 최적의 모델 weights 로딩\n",
    "    \n",
    "    model.load_state_dict(best_model_wts)\n",
    "    return model"
   ]
  },
  {
   "cell_type": "code",
   "execution_count": null,
   "metadata": {},
   "outputs": [
    {
     "name": "stdout",
     "output_type": "stream",
     "text": [
      "Epoch 0/23\n",
      "----------\n"
     ]
    },
    {
     "name": "stderr",
     "output_type": "stream",
     "text": [
      "E:\\anaconda3\\envs\\jins\\lib\\site-packages\\torch\\optim\\lr_scheduler.py:129: UserWarning: Detected call of `lr_scheduler.step()` before `optimizer.step()`. In PyTorch 1.1.0 and later, you should call them in the opposite order: `optimizer.step()` before `lr_scheduler.step()`.  Failure to do this will result in PyTorch skipping the first value of the learning rate schedule. See more details at https://pytorch.org/docs/stable/optim.html#how-to-adjust-learning-rate\n",
      "  warnings.warn(\"Detected call of `lr_scheduler.step()` before `optimizer.step()`. \"\n"
     ]
    },
    {
     "name": "stdout",
     "output_type": "stream",
     "text": [
      "train Loss: 0.0811 Acc: 0.0037\n",
      "valid Loss: 0.0795 Acc: 0.0185\n",
      "\n",
      "Epoch 1/23\n",
      "----------\n",
      "train Loss: 0.0742 Acc: 0.0407\n",
      "valid Loss: 0.0740 Acc: 0.0426\n",
      "\n",
      "Epoch 2/23\n",
      "----------\n",
      "train Loss: 0.0660 Acc: 0.2722\n",
      "valid Loss: 0.0685 Acc: 0.1759\n",
      "\n",
      "Epoch 3/23\n",
      "----------\n",
      "train Loss: 0.0580 Acc: 0.5907\n",
      "valid Loss: 0.0636 Acc: 0.3333\n",
      "\n",
      "Epoch 4/23\n",
      "----------\n",
      "train Loss: 0.0508 Acc: 0.8315\n",
      "valid Loss: 0.0590 Acc: 0.4648\n",
      "\n",
      "Epoch 5/23\n",
      "----------\n",
      "train Loss: 0.0441 Acc: 0.9315\n",
      "valid Loss: 0.0548 Acc: 0.6037\n",
      "\n",
      "Epoch 6/23\n",
      "----------\n",
      "train Loss: 0.0402 Acc: 0.9685\n",
      "valid Loss: 0.0545 Acc: 0.6148\n",
      "\n",
      "Epoch 7/23\n",
      "----------\n",
      "train Loss: 0.0396 Acc: 0.9815\n",
      "valid Loss: 0.0543 Acc: 0.6315\n",
      "\n",
      "Epoch 8/23\n",
      "----------\n",
      "train Loss: 0.0387 Acc: 0.9741\n",
      "valid Loss: 0.0540 Acc: 0.6352\n",
      "\n",
      "Epoch 9/23\n",
      "----------\n",
      "train Loss: 0.0385 Acc: 0.9778\n",
      "valid Loss: 0.0536 Acc: 0.6463\n",
      "\n",
      "Epoch 10/23\n",
      "----------\n",
      "train Loss: 0.0380 Acc: 0.9778\n",
      "valid Loss: 0.0533 Acc: 0.6648\n",
      "\n",
      "Epoch 11/23\n",
      "----------\n",
      "train Loss: 0.0371 Acc: 0.9833\n",
      "valid Loss: 0.0529 Acc: 0.6722\n",
      "\n",
      "Epoch 12/23\n",
      "----------\n",
      "train Loss: 0.0369 Acc: 0.9833\n",
      "valid Loss: 0.0525 Acc: 0.6889\n",
      "\n",
      "Epoch 13/23\n",
      "----------\n",
      "train Loss: 0.0364 Acc: 0.9889\n",
      "valid Loss: 0.0526 Acc: 0.6833\n",
      "\n",
      "Epoch 14/23\n",
      "----------\n",
      "train Loss: 0.0363 Acc: 0.9852\n",
      "valid Loss: 0.0526 Acc: 0.6926\n",
      "\n",
      "Epoch 15/23\n",
      "----------\n",
      "train Loss: 0.0362 Acc: 0.9889\n",
      "valid Loss: 0.0526 Acc: 0.6926\n",
      "\n",
      "Epoch 16/23\n",
      "----------\n",
      "train Loss: 0.0362 Acc: 0.9907\n",
      "valid Loss: 0.0525 Acc: 0.7000\n",
      "\n",
      "Epoch 17/23\n",
      "----------\n",
      "train Loss: 0.0362 Acc: 0.9907\n",
      "valid Loss: 0.0524 Acc: 0.6926\n",
      "\n",
      "Epoch 18/23\n",
      "----------\n",
      "train Loss: 0.0361 Acc: 0.9870\n",
      "valid Loss: 0.0524 Acc: 0.6907\n",
      "\n",
      "Epoch 19/23\n",
      "----------\n",
      "train Loss: 0.0360 Acc: 0.9907\n",
      "valid Loss: 0.0523 Acc: 0.7037\n",
      "\n",
      "Epoch 20/23\n",
      "----------\n",
      "train Loss: 0.0362 Acc: 0.9852\n",
      "valid Loss: 0.0523 Acc: 0.6981\n",
      "\n",
      "Epoch 21/23\n",
      "----------\n",
      "train Loss: 0.0362 Acc: 0.9926\n",
      "valid Loss: 0.0523 Acc: 0.7056\n",
      "\n",
      "Epoch 22/23\n",
      "----------\n",
      "train Loss: 0.0362 Acc: 0.9852\n",
      "valid Loss: 0.0524 Acc: 0.7056\n",
      "\n",
      "Epoch 23/23\n",
      "----------\n"
     ]
    }
   ],
   "source": [
    "%%time\n",
    "model_ft = train_model(model_ft,criterion,exp_lr_scheduler,optimizer_ft,num_epochs=24)"
   ]
  },
  {
   "cell_type": "code",
   "execution_count": null,
   "metadata": {},
   "outputs": [],
   "source": []
  }
 ],
 "metadata": {
  "kernelspec": {
   "display_name": "Python 3",
   "language": "python",
   "name": "python3"
  },
  "language_info": {
   "codemirror_mode": {
    "name": "ipython",
    "version": 3
   },
   "file_extension": ".py",
   "mimetype": "text/x-python",
   "name": "python",
   "nbconvert_exporter": "python",
   "pygments_lexer": "ipython3",
   "version": "3.8.5"
  },
  "toc": {
   "base_numbering": 1,
   "nav_menu": {},
   "number_sections": true,
   "sideBar": true,
   "skip_h1_title": false,
   "title_cell": "Table of Contents",
   "title_sidebar": "Contents",
   "toc_cell": false,
   "toc_position": {},
   "toc_section_display": true,
   "toc_window_display": false
  },
  "varInspector": {
   "cols": {
    "lenName": 16,
    "lenType": 16,
    "lenVar": 40
   },
   "kernels_config": {
    "python": {
     "delete_cmd_postfix": "",
     "delete_cmd_prefix": "del ",
     "library": "var_list.py",
     "varRefreshCmd": "print(var_dic_list())"
    },
    "r": {
     "delete_cmd_postfix": ") ",
     "delete_cmd_prefix": "rm(",
     "library": "var_list.r",
     "varRefreshCmd": "cat(var_dic_list()) "
    }
   },
   "types_to_exclude": [
    "module",
    "function",
    "builtin_function_or_method",
    "instance",
    "_Feature"
   ],
   "window_display": false
  }
 },
 "nbformat": 4,
 "nbformat_minor": 4
}
